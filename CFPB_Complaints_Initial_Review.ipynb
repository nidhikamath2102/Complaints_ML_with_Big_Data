{
 "cells": [
  {
   "cell_type": "code",
   "execution_count": 2,
   "id": "initial_id",
   "metadata": {
    "ExecuteTime": {
     "end_time": "2024-10-28T21:20:56.959375Z",
     "start_time": "2024-10-28T21:20:56.574259Z"
    },
    "executionInfo": {
     "elapsed": 4379,
     "status": "ok",
     "timestamp": 1730767324059,
     "user": {
      "displayName": "Nidhi Govindraya Kamath",
      "userId": "06128373347173156974"
     },
     "user_tz": 300
    },
    "id": "initial_id"
   },
   "outputs": [],
   "source": [
    "#from google.colab import drive\n",
    "import os\n",
    "import sys\n",
    "import numpy as np\n",
    "import pandas as pd\n",
    "import matplotlib.pyplot as plt\n",
    "import seaborn as sns\n",
    "import time\n",
    "from sklearn.preprocessing import OneHotEncoder\n",
    "from sklearn.ensemble import RandomForestClassifier\n",
    "from sklearn.model_selection import train_test_split, RandomizedSearchCV\n",
    "from sklearn.feature_selection import SelectKBest, chi2\n",
    "from sklearn.preprocessing import StandardScaler\n",
    "from sklearn.tree import DecisionTreeClassifier\n",
    "from sklearn.linear_model import LogisticRegression\n",
    "from sklearn.metrics import classification_report, accuracy_score, recall_score, precision_score, f1_score\n",
    "from sklearn.preprocessing import LabelEncoder"
   ]
  },
  {
   "cell_type": "code",
   "execution_count": 3,
   "id": "Ka9EqveW27ys",
   "metadata": {
    "colab": {
     "base_uri": "https://localhost:8080/"
    },
    "executionInfo": {
     "elapsed": 733,
     "status": "ok",
     "timestamp": 1730767324789,
     "user": {
      "displayName": "Nidhi Govindraya Kamath",
      "userId": "06128373347173156974"
     },
     "user_tz": 300
    },
    "id": "Ka9EqveW27ys",
    "outputId": "2ea5fde5-4870-4fd1-f7ee-7dd8995b807b"
   },
   "outputs": [],
   "source": [
    "# drive.mount('/content/gdrive/')\n",
    "# dir_path = '/content/gdrive/MyDrive/Colab_Notebooks/MLWBD_Project/'\n",
    "# sys.path.append(dir_path)"
   ]
  },
  {
   "cell_type": "code",
   "execution_count": 4,
   "id": "e72b6a5cc7c0a270",
   "metadata": {
    "ExecuteTime": {
     "end_time": "2024-10-28T21:21:17.478619Z",
     "start_time": "2024-10-28T21:21:17.473187Z"
    },
    "executionInfo": {
     "elapsed": 2,
     "status": "ok",
     "timestamp": 1730767324789,
     "user": {
      "displayName": "Nidhi Govindraya Kamath",
      "userId": "06128373347173156974"
     },
     "user_tz": 300
    },
    "id": "e72b6a5cc7c0a270"
   },
   "outputs": [],
   "source": [
    "pd.set_option('display.float_format', lambda x: '%.2f' % x)"
   ]
  },
  {
   "cell_type": "code",
   "execution_count": 5,
   "id": "e5c33a13b6d67ccc",
   "metadata": {
    "ExecuteTime": {
     "end_time": "2024-10-28T21:22:18.520007Z",
     "start_time": "2024-10-28T21:21:17.504764Z"
    },
    "colab": {
     "base_uri": "https://localhost:8080/"
    },
    "executionInfo": {
     "elapsed": 94005,
     "status": "ok",
     "timestamp": 1730767418792,
     "user": {
      "displayName": "Nidhi Govindraya Kamath",
      "userId": "06128373347173156974"
     },
     "user_tz": 300
    },
    "id": "e5c33a13b6d67ccc",
    "outputId": "d85e28ec-1058-453c-c5ef-59b676a5cb51"
   },
   "outputs": [
    {
     "name": "stdout",
     "output_type": "stream",
     "text": [
      "Number of chunks read:  (400000, 18)\n",
      "Number of chunks read:  (400000, 18)\n",
      "Number of chunks read:  (400000, 18)\n",
      "Number of chunks read:  (400000, 18)\n",
      "Number of chunks read:  (400000, 18)\n",
      "Number of chunks read:  (400000, 18)\n",
      "Number of chunks read:  (400000, 18)\n",
      "Number of chunks read:  (400000, 18)\n",
      "Number of chunks read:  (400000, 18)\n",
      "Number of chunks read:  (400000, 18)\n",
      "Number of chunks read:  (400000, 18)\n",
      "Number of chunks read:  (400000, 18)\n",
      "Number of chunks read:  (400000, 18)\n",
      "Number of chunks read:  (400000, 18)\n",
      "Number of chunks read:  (400000, 18)\n",
      "Number of chunks read:  (335939, 18)\n",
      "Time taken to read the data:  36.277591943740845\n",
      "Shape of the dataframe:  (6335939, 18)\n"
     ]
    }
   ],
   "source": [
    "start_time = time.time()\n",
    "complaints_cfpb = pd. DataFrame()\n",
    "\n",
    "for chunk in pd.read_csv('complaints.csv', chunksize=400000):\n",
    "    print('Number of chunks read: ', chunk.shape)\n",
    "    complaints_cfpb = pd.concat([complaints_cfpb, chunk])\n",
    "\n",
    "print(\"Time taken to read the data: \", time.time() - start_time)\n",
    "\n",
    "print(\"Shape of the dataframe: \", complaints_cfpb.shape)"
   ]
  },
  {
   "cell_type": "code",
   "execution_count": 6,
   "id": "a3185fb94bec94c9",
   "metadata": {
    "ExecuteTime": {
     "end_time": "2024-10-28T21:22:19.278256Z",
     "start_time": "2024-10-28T21:22:18.986882Z"
    },
    "colab": {
     "base_uri": "https://localhost:8080/",
     "height": 660
    },
    "executionInfo": {
     "elapsed": 6,
     "status": "ok",
     "timestamp": 1730767418792,
     "user": {
      "displayName": "Nidhi Govindraya Kamath",
      "userId": "06128373347173156974"
     },
     "user_tz": 300
    },
    "id": "a3185fb94bec94c9",
    "outputId": "b86b6076-5d7a-4119-f297-03ba74e283f2"
   },
   "outputs": [
    {
     "data": {
      "text/html": [
       "<div>\n",
       "<style scoped>\n",
       "    .dataframe tbody tr th:only-of-type {\n",
       "        vertical-align: middle;\n",
       "    }\n",
       "\n",
       "    .dataframe tbody tr th {\n",
       "        vertical-align: top;\n",
       "    }\n",
       "\n",
       "    .dataframe thead th {\n",
       "        text-align: right;\n",
       "    }\n",
       "</style>\n",
       "<table border=\"1\" class=\"dataframe\">\n",
       "  <thead>\n",
       "    <tr style=\"text-align: right;\">\n",
       "      <th></th>\n",
       "      <th>Date received</th>\n",
       "      <th>Product</th>\n",
       "      <th>Sub-product</th>\n",
       "      <th>Issue</th>\n",
       "      <th>Sub-issue</th>\n",
       "      <th>Consumer complaint narrative</th>\n",
       "      <th>Company public response</th>\n",
       "      <th>Company</th>\n",
       "      <th>State</th>\n",
       "      <th>ZIP code</th>\n",
       "      <th>Tags</th>\n",
       "      <th>Consumer consent provided?</th>\n",
       "      <th>Submitted via</th>\n",
       "      <th>Date sent to company</th>\n",
       "      <th>Company response to consumer</th>\n",
       "      <th>Timely response?</th>\n",
       "      <th>Consumer disputed?</th>\n",
       "      <th>Complaint ID</th>\n",
       "    </tr>\n",
       "  </thead>\n",
       "  <tbody>\n",
       "    <tr>\n",
       "      <th>0</th>\n",
       "      <td>2024-07-27</td>\n",
       "      <td>Credit card</td>\n",
       "      <td>General-purpose credit card or charge card</td>\n",
       "      <td>Getting a credit card</td>\n",
       "      <td>Card opened without my consent or knowledge</td>\n",
       "      <td>NaN</td>\n",
       "      <td>NaN</td>\n",
       "      <td>CAPITAL ONE FINANCIAL CORPORATION</td>\n",
       "      <td>CA</td>\n",
       "      <td>94519</td>\n",
       "      <td>NaN</td>\n",
       "      <td>Consent not provided</td>\n",
       "      <td>Web</td>\n",
       "      <td>2024-07-27</td>\n",
       "      <td>Closed with non-monetary relief</td>\n",
       "      <td>Yes</td>\n",
       "      <td>NaN</td>\n",
       "      <td>9634839</td>\n",
       "    </tr>\n",
       "    <tr>\n",
       "      <th>1</th>\n",
       "      <td>2024-09-18</td>\n",
       "      <td>Credit reporting or other personal consumer re...</td>\n",
       "      <td>Other personal consumer report</td>\n",
       "      <td>Incorrect information on your report</td>\n",
       "      <td>Information belongs to someone else</td>\n",
       "      <td>NaN</td>\n",
       "      <td>NaN</td>\n",
       "      <td>ENCORE CAPITAL GROUP INC.</td>\n",
       "      <td>FL</td>\n",
       "      <td>34472</td>\n",
       "      <td>NaN</td>\n",
       "      <td>NaN</td>\n",
       "      <td>Web</td>\n",
       "      <td>2024-09-18</td>\n",
       "      <td>Closed with explanation</td>\n",
       "      <td>Yes</td>\n",
       "      <td>NaN</td>\n",
       "      <td>10169554</td>\n",
       "    </tr>\n",
       "    <tr>\n",
       "      <th>2</th>\n",
       "      <td>2024-09-19</td>\n",
       "      <td>Student loan</td>\n",
       "      <td>Private student loan</td>\n",
       "      <td>Struggling to repay your loan</td>\n",
       "      <td>Bankruptcy</td>\n",
       "      <td>NaN</td>\n",
       "      <td>NaN</td>\n",
       "      <td>CL Holdings LLC</td>\n",
       "      <td>KY</td>\n",
       "      <td>40160</td>\n",
       "      <td>NaN</td>\n",
       "      <td>NaN</td>\n",
       "      <td>Web</td>\n",
       "      <td>2024-09-19</td>\n",
       "      <td>In progress</td>\n",
       "      <td>Yes</td>\n",
       "      <td>NaN</td>\n",
       "      <td>10169752</td>\n",
       "    </tr>\n",
       "    <tr>\n",
       "      <th>3</th>\n",
       "      <td>2024-06-09</td>\n",
       "      <td>Credit reporting or other personal consumer re...</td>\n",
       "      <td>Credit reporting</td>\n",
       "      <td>Incorrect information on your report</td>\n",
       "      <td>Personal information incorrect</td>\n",
       "      <td>I recently reviewed a copy of my credit report...</td>\n",
       "      <td>Company has responded to the consumer and the ...</td>\n",
       "      <td>Experian Information Solutions Inc.</td>\n",
       "      <td>CA</td>\n",
       "      <td>91730</td>\n",
       "      <td>NaN</td>\n",
       "      <td>Consent provided</td>\n",
       "      <td>Web</td>\n",
       "      <td>2024-06-09</td>\n",
       "      <td>Closed with non-monetary relief</td>\n",
       "      <td>Yes</td>\n",
       "      <td>NaN</td>\n",
       "      <td>9213312</td>\n",
       "    </tr>\n",
       "    <tr>\n",
       "      <th>4</th>\n",
       "      <td>2024-07-24</td>\n",
       "      <td>Credit reporting or other personal consumer re...</td>\n",
       "      <td>Credit reporting</td>\n",
       "      <td>Incorrect information on your report</td>\n",
       "      <td>Account information incorrect</td>\n",
       "      <td>To Whom It May Concern, I am writing in respon...</td>\n",
       "      <td>NaN</td>\n",
       "      <td>TrueAccord Corp.</td>\n",
       "      <td>TX</td>\n",
       "      <td>761XX</td>\n",
       "      <td>NaN</td>\n",
       "      <td>Consent provided</td>\n",
       "      <td>Web</td>\n",
       "      <td>2024-07-24</td>\n",
       "      <td>Closed with explanation</td>\n",
       "      <td>Yes</td>\n",
       "      <td>NaN</td>\n",
       "      <td>9592293</td>\n",
       "    </tr>\n",
       "  </tbody>\n",
       "</table>\n",
       "</div>"
      ],
      "text/plain": [
       "  Date received                                            Product  \\\n",
       "0    2024-07-27                                        Credit card   \n",
       "1    2024-09-18  Credit reporting or other personal consumer re...   \n",
       "2    2024-09-19                                       Student loan   \n",
       "3    2024-06-09  Credit reporting or other personal consumer re...   \n",
       "4    2024-07-24  Credit reporting or other personal consumer re...   \n",
       "\n",
       "                                  Sub-product  \\\n",
       "0  General-purpose credit card or charge card   \n",
       "1              Other personal consumer report   \n",
       "2                        Private student loan   \n",
       "3                            Credit reporting   \n",
       "4                            Credit reporting   \n",
       "\n",
       "                                  Issue  \\\n",
       "0                 Getting a credit card   \n",
       "1  Incorrect information on your report   \n",
       "2         Struggling to repay your loan   \n",
       "3  Incorrect information on your report   \n",
       "4  Incorrect information on your report   \n",
       "\n",
       "                                     Sub-issue  \\\n",
       "0  Card opened without my consent or knowledge   \n",
       "1          Information belongs to someone else   \n",
       "2                                   Bankruptcy   \n",
       "3               Personal information incorrect   \n",
       "4                Account information incorrect   \n",
       "\n",
       "                        Consumer complaint narrative  \\\n",
       "0                                                NaN   \n",
       "1                                                NaN   \n",
       "2                                                NaN   \n",
       "3  I recently reviewed a copy of my credit report...   \n",
       "4  To Whom It May Concern, I am writing in respon...   \n",
       "\n",
       "                             Company public response  \\\n",
       "0                                                NaN   \n",
       "1                                                NaN   \n",
       "2                                                NaN   \n",
       "3  Company has responded to the consumer and the ...   \n",
       "4                                                NaN   \n",
       "\n",
       "                               Company State ZIP code Tags  \\\n",
       "0    CAPITAL ONE FINANCIAL CORPORATION    CA    94519  NaN   \n",
       "1            ENCORE CAPITAL GROUP INC.    FL    34472  NaN   \n",
       "2                      CL Holdings LLC    KY    40160  NaN   \n",
       "3  Experian Information Solutions Inc.    CA    91730  NaN   \n",
       "4                     TrueAccord Corp.    TX    761XX  NaN   \n",
       "\n",
       "  Consumer consent provided? Submitted via Date sent to company  \\\n",
       "0       Consent not provided           Web           2024-07-27   \n",
       "1                        NaN           Web           2024-09-18   \n",
       "2                        NaN           Web           2024-09-19   \n",
       "3           Consent provided           Web           2024-06-09   \n",
       "4           Consent provided           Web           2024-07-24   \n",
       "\n",
       "      Company response to consumer Timely response? Consumer disputed?  \\\n",
       "0  Closed with non-monetary relief              Yes                NaN   \n",
       "1          Closed with explanation              Yes                NaN   \n",
       "2                      In progress              Yes                NaN   \n",
       "3  Closed with non-monetary relief              Yes                NaN   \n",
       "4          Closed with explanation              Yes                NaN   \n",
       "\n",
       "   Complaint ID  \n",
       "0       9634839  \n",
       "1      10169554  \n",
       "2      10169752  \n",
       "3       9213312  \n",
       "4       9592293  "
      ]
     },
     "execution_count": 6,
     "metadata": {},
     "output_type": "execute_result"
    }
   ],
   "source": [
    "complaints_cfpb.head()"
   ]
  },
  {
   "cell_type": "code",
   "execution_count": 7,
   "id": "759db30cdefa3afd",
   "metadata": {
    "ExecuteTime": {
     "end_time": "2024-10-28T21:22:41.732893Z",
     "start_time": "2024-10-28T21:22:19.910799Z"
    },
    "colab": {
     "base_uri": "https://localhost:8080/"
    },
    "executionInfo": {
     "elapsed": 26563,
     "status": "ok",
     "timestamp": 1730767445351,
     "user": {
      "displayName": "Nidhi Govindraya Kamath",
      "userId": "06128373347173156974"
     },
     "user_tz": 300
    },
    "id": "759db30cdefa3afd",
    "outputId": "7cf43b33-da06-40fd-9803-e90812902b0c"
   },
   "outputs": [
    {
     "name": "stdout",
     "output_type": "stream",
     "text": [
      "<class 'pandas.core.frame.DataFrame'>\n",
      "RangeIndex: 6335939 entries, 0 to 6335938\n",
      "Data columns (total 18 columns):\n",
      " #   Column                        Dtype \n",
      "---  ------                        ----- \n",
      " 0   Date received                 object\n",
      " 1   Product                       object\n",
      " 2   Sub-product                   object\n",
      " 3   Issue                         object\n",
      " 4   Sub-issue                     object\n",
      " 5   Consumer complaint narrative  object\n",
      " 6   Company public response       object\n",
      " 7   Company                       object\n",
      " 8   State                         object\n",
      " 9   ZIP code                      object\n",
      " 10  Tags                          object\n",
      " 11  Consumer consent provided?    object\n",
      " 12  Submitted via                 object\n",
      " 13  Date sent to company          object\n",
      " 14  Company response to consumer  object\n",
      " 15  Timely response?              object\n",
      " 16  Consumer disputed?            object\n",
      " 17  Complaint ID                  int64 \n",
      "dtypes: int64(1), object(17)\n",
      "memory usage: 8.3 GB\n"
     ]
    }
   ],
   "source": [
    "complaints_cfpb.info(memory_usage='deep')"
   ]
  },
  {
   "cell_type": "code",
   "execution_count": 8,
   "id": "73f65280e7767200",
   "metadata": {
    "ExecuteTime": {
     "end_time": "2024-10-28T21:22:44.318392Z",
     "start_time": "2024-10-28T21:22:41.909608Z"
    },
    "executionInfo": {
     "elapsed": 1727,
     "status": "ok",
     "timestamp": 1730767447075,
     "user": {
      "displayName": "Nidhi Govindraya Kamath",
      "userId": "06128373347173156974"
     },
     "user_tz": 300
    },
    "id": "73f65280e7767200"
   },
   "outputs": [],
   "source": [
    "complaints_cfpb['Date received'] = pd.to_datetime(complaints_cfpb['Date received'], errors='coerce')\n",
    "complaints_cfpb['Date sent to company'] = pd.to_datetime(complaints_cfpb['Date sent to company'], errors='coerce')"
   ]
  },
  {
   "cell_type": "code",
   "execution_count": 9,
   "id": "e394cff1c8a0f958",
   "metadata": {
    "ExecuteTime": {
     "end_time": "2024-10-28T21:23:25.808859Z",
     "start_time": "2024-10-28T21:22:44.318392Z"
    },
    "executionInfo": {
     "elapsed": 24726,
     "status": "ok",
     "timestamp": 1730767471799,
     "user": {
      "displayName": "Nidhi Govindraya Kamath",
      "userId": "06128373347173156974"
     },
     "user_tz": 300
    },
    "id": "e394cff1c8a0f958"
   },
   "outputs": [],
   "source": [
    "for col in complaints_cfpb.select_dtypes(include='object').columns:\n",
    "    complaints_cfpb[col] = complaints_cfpb[col].astype('category')"
   ]
  },
  {
   "cell_type": "code",
   "execution_count": 10,
   "id": "811ac776072fd7b8",
   "metadata": {
    "ExecuteTime": {
     "end_time": "2024-10-28T21:23:31.499886Z",
     "start_time": "2024-10-28T21:23:31.484171Z"
    },
    "executionInfo": {
     "elapsed": 2,
     "status": "ok",
     "timestamp": 1730767471799,
     "user": {
      "displayName": "Nidhi Govindraya Kamath",
      "userId": "06128373347173156974"
     },
     "user_tz": 300
    },
    "id": "811ac776072fd7b8"
   },
   "outputs": [],
   "source": [
    "def check_col_null_distribution(df):\n",
    "    total_rows = df.shape[0]\n",
    "    columns_with_null = df.columns[df.isnull().any()]\n",
    "\n",
    "    null_percentages = {}\n",
    "\n",
    "    for col in columns_with_null:\n",
    "        null_count = df[col].isnull().sum()\n",
    "        null_percentage = (null_count / total_rows) * 100\n",
    "        null_percentages[col] = null_percentage\n",
    "\n",
    "    return null_percentages"
   ]
  },
  {
   "cell_type": "code",
   "execution_count": 11,
   "id": "9876f9f6df5f388b",
   "metadata": {
    "ExecuteTime": {
     "end_time": "2024-10-28T21:23:31.550924Z",
     "start_time": "2024-10-28T21:23:31.532603Z"
    },
    "executionInfo": {
     "elapsed": 2,
     "status": "ok",
     "timestamp": 1730767471799,
     "user": {
      "displayName": "Nidhi Govindraya Kamath",
      "userId": "06128373347173156974"
     },
     "user_tz": 300
    },
    "id": "9876f9f6df5f388b"
   },
   "outputs": [],
   "source": [
    "def plot_null_percentage(df):\n",
    "    null_percentages = check_col_null_distribution(df)\n",
    "\n",
    "    columns_with_null = list(null_percentages.keys())\n",
    "    percentages = list(null_percentages.values())\n",
    "\n",
    "    plt.figure(figsize=(10, 5))\n",
    "    ax = sns.barplot(x=columns_with_null, y=percentages, palette='viridis')\n",
    "\n",
    "    plt.xticks(rotation=90)\n",
    "\n",
    "    for i, p in enumerate(ax.patches):\n",
    "        ax.annotate(f'{percentages[i]:.2f}%',\n",
    "                    (p.get_x() + p.get_width() / 2, p.get_height()),\n",
    "                    ha='center', va='bottom', fontsize=10)\n",
    "\n",
    "    plt.ylabel('Percentage of missing values')\n",
    "    plt.xlabel('Columns')\n",
    "    plt.title('Percentage of missing values in each column')\n",
    "    plt.show()"
   ]
  },
  {
   "cell_type": "code",
   "execution_count": 12,
   "id": "b4971be2115c40e7",
   "metadata": {
    "ExecuteTime": {
     "end_time": "2024-10-28T21:23:33.069115Z",
     "start_time": "2024-10-28T21:23:31.636002Z"
    },
    "colab": {
     "base_uri": "https://localhost:8080/",
     "height": 787
    },
    "executionInfo": {
     "elapsed": 635,
     "status": "ok",
     "timestamp": 1730767472433,
     "user": {
      "displayName": "Nidhi Govindraya Kamath",
      "userId": "06128373347173156974"
     },
     "user_tz": 300
    },
    "id": "b4971be2115c40e7",
    "outputId": "78e386c8-1d7d-4003-bc80-ee63eeb1990d"
   },
   "outputs": [
    {
     "name": "stderr",
     "output_type": "stream",
     "text": [
      "/var/folders/gn/2snxnw0d43nbcsdsz8xvy5cr0000gn/T/ipykernel_98930/293090321.py:8: FutureWarning: \n",
      "\n",
      "Passing `palette` without assigning `hue` is deprecated and will be removed in v0.14.0. Assign the `x` variable to `hue` and set `legend=False` for the same effect.\n",
      "\n",
      "  ax = sns.barplot(x=columns_with_null, y=percentages, palette='viridis')\n"
     ]
    },
    {
     "data": {
      "image/png": "[encoded data removed]",
      "text/plain": [
       "<Figure size 1000x500 with 1 Axes>"
      ]
     },
     "metadata": {},
     "output_type": "display_data"
    }
   ],
   "source": [
    "plot_null_percentage(complaints_cfpb)"
   ]
  },
  {
   "cell_type": "code",
   "execution_count": 13,
   "id": "a2d7e3ae2adf8f1",
   "metadata": {
    "ExecuteTime": {
     "end_time": "2024-10-28T21:23:33.103950Z",
     "start_time": "2024-10-28T21:23:33.090755Z"
    },
    "executionInfo": {
     "elapsed": 5,
     "status": "ok",
     "timestamp": 1730767472434,
     "user": {
      "displayName": "Nidhi Govindraya Kamath",
      "userId": "06128373347173156974"
     },
     "user_tz": 300
    },
    "id": "a2d7e3ae2adf8f1"
   },
   "outputs": [],
   "source": [
    "columns_to_retain = ['Product', 'Issue', 'Company response to consumer', 'Sub-product', 'Sub-issue', 'State', 'ZIP code']\n",
    "\n",
    "columns_to_drop = ['Tags', 'Consumer disputed?', 'Consumer consent provided?', 'Consumer complaint narrative']"
   ]
  },
  {
   "cell_type": "code",
   "execution_count": 14,
   "id": "fbbd2f48931ee517",
   "metadata": {
    "ExecuteTime": {
     "end_time": "2024-10-28T21:23:33.594795Z",
     "start_time": "2024-10-28T21:23:33.134567Z"
    },
    "executionInfo": {
     "elapsed": 137,
     "status": "ok",
     "timestamp": 1730767472567,
     "user": {
      "displayName": "Nidhi Govindraya Kamath",
      "userId": "06128373347173156974"
     },
     "user_tz": 300
    },
    "id": "fbbd2f48931ee517"
   },
   "outputs": [],
   "source": [
    "complaints_cfpb.drop(columns=columns_to_drop, axis=1, inplace=True)"
   ]
  },
  {
   "cell_type": "code",
   "execution_count": 15,
   "id": "3a71f13a9f0973e2",
   "metadata": {
    "ExecuteTime": {
     "end_time": "2024-10-28T21:23:33.776208Z",
     "start_time": "2024-10-28T21:23:33.622673Z"
    },
    "executionInfo": {
     "elapsed": 243,
     "status": "ok",
     "timestamp": 1730767472809,
     "user": {
      "displayName": "Nidhi Govindraya Kamath",
      "userId": "06128373347173156974"
     },
     "user_tz": 300
    },
    "id": "3a71f13a9f0973e2"
   },
   "outputs": [],
   "source": [
    "complaints_cfpb['Sub-product'] = complaints_cfpb['Sub-product'].cat.add_categories(\"None\").fillna(\"None\")\n",
    "complaints_cfpb['Sub-issue'] = complaints_cfpb['Sub-issue'].cat.add_categories(\"Unknown\").fillna(\"Unknown\")\n",
    "complaints_cfpb['Company response to consumer'] = complaints_cfpb['Company response to consumer'].cat.add_categories(\"Unknown\").fillna(\"Unknown\")\n",
    "complaints_cfpb['Company public response'] = complaints_cfpb['Company public response'].cat.add_categories(\"Unknown\").fillna(\"Unknown\")\n",
    "complaints_cfpb['State'] = complaints_cfpb['State'].cat.add_categories(\"Unknown\").fillna(\"Unknown\")\n",
    "complaints_cfpb['ZIP code'] = complaints_cfpb['ZIP code'].cat.add_categories(\"Not Provided\").fillna(\"Not Provided\")"
   ]
  },
  {
   "cell_type": "code",
   "execution_count": 16,
   "id": "ecbd2c6e6bfb8a16",
   "metadata": {
    "ExecuteTime": {
     "end_time": "2024-10-28T21:23:33.826135Z",
     "start_time": "2024-10-28T21:23:33.816848Z"
    },
    "colab": {
     "base_uri": "https://localhost:8080/"
    },
    "executionInfo": {
     "elapsed": 2,
     "status": "ok",
     "timestamp": 1730767472810,
     "user": {
      "displayName": "Nidhi Govindraya Kamath",
      "userId": "06128373347173156974"
     },
     "user_tz": 300
    },
    "id": "ecbd2c6e6bfb8a16",
    "outputId": "efa90f76-e920-48d6-d0f1-8c4f8198f69f"
   },
   "outputs": [
    {
     "data": {
      "text/plain": [
       "(6335939, 14)"
      ]
     },
     "execution_count": 16,
     "metadata": {},
     "output_type": "execute_result"
    }
   ],
   "source": [
    "complaints_cfpb.shape"
   ]
  },
  {
   "cell_type": "code",
   "execution_count": 17,
   "id": "863a0b0b6fa1a706",
   "metadata": {
    "ExecuteTime": {
     "end_time": "2024-10-28T21:23:33.989609Z",
     "start_time": "2024-10-28T21:23:33.855135Z"
    },
    "colab": {
     "base_uri": "https://localhost:8080/",
     "height": 523
    },
    "executionInfo": {
     "elapsed": 168,
     "status": "ok",
     "timestamp": 1730767472977,
     "user": {
      "displayName": "Nidhi Govindraya Kamath",
      "userId": "06128373347173156974"
     },
     "user_tz": 300
    },
    "id": "863a0b0b6fa1a706",
    "outputId": "323f1c8c-529b-4546-bda8-a149249e6833"
   },
   "outputs": [
    {
     "data": {
      "text/plain": [
       "Date received                   0\n",
       "Product                         0\n",
       "Sub-product                     0\n",
       "Issue                           6\n",
       "Sub-issue                       0\n",
       "Company public response         0\n",
       "Company                         0\n",
       "State                           0\n",
       "ZIP code                        0\n",
       "Submitted via                   0\n",
       "Date sent to company            0\n",
       "Company response to consumer    0\n",
       "Timely response?                0\n",
       "Complaint ID                    0\n",
       "dtype: int64"
      ]
     },
     "execution_count": 17,
     "metadata": {},
     "output_type": "execute_result"
    }
   ],
   "source": [
    "complaints_cfpb.isnull().sum()"
   ]
  },
  {
   "cell_type": "code",
   "execution_count": 18,
   "id": "cb14dcc593287187",
   "metadata": {
    "ExecuteTime": {
     "end_time": "2024-10-28T21:23:34.083013Z",
     "start_time": "2024-10-28T21:23:34.050381Z"
    },
    "colab": {
     "base_uri": "https://localhost:8080/"
    },
    "executionInfo": {
     "elapsed": 4,
     "status": "ok",
     "timestamp": 1730767472977,
     "user": {
      "displayName": "Nidhi Govindraya Kamath",
      "userId": "06128373347173156974"
     },
     "user_tz": 300
    },
    "id": "cb14dcc593287187",
    "outputId": "c5744bf3-bea2-4250-98e3-1f21e4419297"
   },
   "outputs": [
    {
     "name": "stdout",
     "output_type": "stream",
     "text": [
      "Minimum date in the dataset:  2011-12-01 00:00:00\n",
      "Maximum date in the dataset:  2024-10-06 00:00:00\n"
     ]
    }
   ],
   "source": [
    "# See the range of dates in the dataset\n",
    "print(\"Minimum date in the dataset: \", complaints_cfpb['Date received'].min())\n",
    "print(\"Maximum date in the dataset: \", complaints_cfpb['Date received'].max())"
   ]
  },
  {
   "cell_type": "code",
   "execution_count": 19,
   "id": "82a4aa44671dcc4d",
   "metadata": {
    "ExecuteTime": {
     "end_time": "2024-10-28T21:24:22.135975Z",
     "start_time": "2024-10-28T21:24:21.904203Z"
    },
    "executionInfo": {
     "elapsed": 289,
     "status": "ok",
     "timestamp": 1730767473263,
     "user": {
      "displayName": "Nidhi Govindraya Kamath",
      "userId": "06128373347173156974"
     },
     "user_tz": 300
    },
    "id": "82a4aa44671dcc4d"
   },
   "outputs": [],
   "source": [
    "# Subset the data ro include only the data after 01/01/2020\n",
    "complaints_cfpb = complaints_cfpb[complaints_cfpb['Date received'] >= '2023-01-01']"
   ]
  },
  {
   "cell_type": "code",
   "execution_count": 20,
   "id": "9ddbf1a4338bfed9",
   "metadata": {
    "ExecuteTime": {
     "end_time": "2024-10-28T21:26:53.706770Z",
     "start_time": "2024-10-28T21:26:47.428910Z"
    },
    "executionInfo": {
     "elapsed": 4882,
     "status": "ok",
     "timestamp": 1730767478143,
     "user": {
      "displayName": "Nidhi Govindraya Kamath",
      "userId": "06128373347173156974"
     },
     "user_tz": 300
    },
    "id": "9ddbf1a4338bfed9"
   },
   "outputs": [],
   "source": [
    "categorical_cols = ['Product', 'Sub-product', 'Issue', 'Sub-issue', 'State', 'Submitted via']\n",
    "encoder = OneHotEncoder(sparse_output=True, handle_unknown='ignore')\n",
    "encoded_data = encoder.fit_transform(complaints_cfpb[categorical_cols])\n",
    "\n",
    "encoded_df = pd.DataFrame.sparse.from_spmatrix(encoded_data, columns=encoder.get_feature_names_out(categorical_cols))\n",
    "\n",
    "encoded_df.index = complaints_cfpb.index\n",
    "\n",
    "complaints_cfpb = pd.concat([complaints_cfpb.drop(categorical_cols, axis=1), encoded_df], axis=1)"
   ]
  },
  {
   "cell_type": "code",
   "execution_count": 21,
   "id": "43d67548c38389f4",
   "metadata": {
    "ExecuteTime": {
     "end_time": "2024-10-28T21:27:11.684031Z",
     "start_time": "2024-10-28T21:27:11.654421Z"
    },
    "colab": {
     "base_uri": "https://localhost:8080/"
    },
    "executionInfo": {
     "elapsed": 7,
     "status": "ok",
     "timestamp": 1730767478143,
     "user": {
      "displayName": "Nidhi Govindraya Kamath",
      "userId": "06128373347173156974"
     },
     "user_tz": 300
    },
    "id": "43d67548c38389f4",
    "outputId": "61c70d87-d4cb-49de-c4ca-1d7e02a06261"
   },
   "outputs": [
    {
     "data": {
      "text/plain": [
       "(3121960, 455)"
      ]
     },
     "execution_count": 21,
     "metadata": {},
     "output_type": "execute_result"
    }
   ],
   "source": [
    "complaints_cfpb.shape"
   ]
  },
  {
   "cell_type": "code",
   "execution_count": 22,
   "id": "2af4809baf82861a",
   "metadata": {
    "ExecuteTime": {
     "end_time": "2024-10-29T00:17:38.085453Z",
     "start_time": "2024-10-29T00:17:37.546459Z"
    },
    "colab": {
     "base_uri": "https://localhost:8080/",
     "height": 533
    },
    "executionInfo": {
     "elapsed": 6,
     "status": "ok",
     "timestamp": 1730767478143,
     "user": {
      "displayName": "Nidhi Govindraya Kamath",
      "userId": "06128373347173156974"
     },
     "user_tz": 300
    },
    "id": "2af4809baf82861a",
    "outputId": "2107efb9-c2dd-4023-dd1f-611bbb2ccffd"
   },
   "outputs": [
    {
     "data": {
      "text/html": [
       "<div>\n",
       "<style scoped>\n",
       "    .dataframe tbody tr th:only-of-type {\n",
       "        vertical-align: middle;\n",
       "    }\n",
       "\n",
       "    .dataframe tbody tr th {\n",
       "        vertical-align: top;\n",
       "    }\n",
       "\n",
       "    .dataframe thead th {\n",
       "        text-align: right;\n",
       "    }\n",
       "</style>\n",
       "<table border=\"1\" class=\"dataframe\">\n",
       "  <thead>\n",
       "    <tr style=\"text-align: right;\">\n",
       "      <th></th>\n",
       "      <th>Date received</th>\n",
       "      <th>Company public response</th>\n",
       "      <th>Company</th>\n",
       "      <th>ZIP code</th>\n",
       "      <th>Date sent to company</th>\n",
       "      <th>Company response to consumer</th>\n",
       "      <th>Timely response?</th>\n",
       "      <th>Complaint ID</th>\n",
       "      <th>Product_Checking or savings account</th>\n",
       "      <th>Product_Credit card</th>\n",
       "      <th>...</th>\n",
       "      <th>State_WA</th>\n",
       "      <th>State_WI</th>\n",
       "      <th>State_WV</th>\n",
       "      <th>State_WY</th>\n",
       "      <th>Submitted via_Email</th>\n",
       "      <th>Submitted via_Phone</th>\n",
       "      <th>Submitted via_Postal mail</th>\n",
       "      <th>Submitted via_Referral</th>\n",
       "      <th>Submitted via_Web</th>\n",
       "      <th>Submitted via_Web Referral</th>\n",
       "    </tr>\n",
       "  </thead>\n",
       "  <tbody>\n",
       "    <tr>\n",
       "      <th>0</th>\n",
       "      <td>2024-07-27</td>\n",
       "      <td>Unknown</td>\n",
       "      <td>CAPITAL ONE FINANCIAL CORPORATION</td>\n",
       "      <td>94519</td>\n",
       "      <td>2024-07-27</td>\n",
       "      <td>Closed with non-monetary relief</td>\n",
       "      <td>Yes</td>\n",
       "      <td>9634839</td>\n",
       "      <td>0</td>\n",
       "      <td>1.00</td>\n",
       "      <td>...</td>\n",
       "      <td>0</td>\n",
       "      <td>0</td>\n",
       "      <td>0</td>\n",
       "      <td>0</td>\n",
       "      <td>0</td>\n",
       "      <td>0</td>\n",
       "      <td>0</td>\n",
       "      <td>0</td>\n",
       "      <td>1.00</td>\n",
       "      <td>0</td>\n",
       "    </tr>\n",
       "    <tr>\n",
       "      <th>1</th>\n",
       "      <td>2024-09-18</td>\n",
       "      <td>Unknown</td>\n",
       "      <td>ENCORE CAPITAL GROUP INC.</td>\n",
       "      <td>34472</td>\n",
       "      <td>2024-09-18</td>\n",
       "      <td>Closed with explanation</td>\n",
       "      <td>Yes</td>\n",
       "      <td>10169554</td>\n",
       "      <td>0</td>\n",
       "      <td>0</td>\n",
       "      <td>...</td>\n",
       "      <td>0</td>\n",
       "      <td>0</td>\n",
       "      <td>0</td>\n",
       "      <td>0</td>\n",
       "      <td>0</td>\n",
       "      <td>0</td>\n",
       "      <td>0</td>\n",
       "      <td>0</td>\n",
       "      <td>1.00</td>\n",
       "      <td>0</td>\n",
       "    </tr>\n",
       "    <tr>\n",
       "      <th>2</th>\n",
       "      <td>2024-09-19</td>\n",
       "      <td>Unknown</td>\n",
       "      <td>CL Holdings LLC</td>\n",
       "      <td>40160</td>\n",
       "      <td>2024-09-19</td>\n",
       "      <td>In progress</td>\n",
       "      <td>Yes</td>\n",
       "      <td>10169752</td>\n",
       "      <td>0</td>\n",
       "      <td>0</td>\n",
       "      <td>...</td>\n",
       "      <td>0</td>\n",
       "      <td>0</td>\n",
       "      <td>0</td>\n",
       "      <td>0</td>\n",
       "      <td>0</td>\n",
       "      <td>0</td>\n",
       "      <td>0</td>\n",
       "      <td>0</td>\n",
       "      <td>1.00</td>\n",
       "      <td>0</td>\n",
       "    </tr>\n",
       "    <tr>\n",
       "      <th>3</th>\n",
       "      <td>2024-06-09</td>\n",
       "      <td>Company has responded to the consumer and the ...</td>\n",
       "      <td>Experian Information Solutions Inc.</td>\n",
       "      <td>91730</td>\n",
       "      <td>2024-06-09</td>\n",
       "      <td>Closed with non-monetary relief</td>\n",
       "      <td>Yes</td>\n",
       "      <td>9213312</td>\n",
       "      <td>0</td>\n",
       "      <td>0</td>\n",
       "      <td>...</td>\n",
       "      <td>0</td>\n",
       "      <td>0</td>\n",
       "      <td>0</td>\n",
       "      <td>0</td>\n",
       "      <td>0</td>\n",
       "      <td>0</td>\n",
       "      <td>0</td>\n",
       "      <td>0</td>\n",
       "      <td>1.00</td>\n",
       "      <td>0</td>\n",
       "    </tr>\n",
       "    <tr>\n",
       "      <th>4</th>\n",
       "      <td>2024-07-24</td>\n",
       "      <td>Unknown</td>\n",
       "      <td>TrueAccord Corp.</td>\n",
       "      <td>761XX</td>\n",
       "      <td>2024-07-24</td>\n",
       "      <td>Closed with explanation</td>\n",
       "      <td>Yes</td>\n",
       "      <td>9592293</td>\n",
       "      <td>0</td>\n",
       "      <td>0</td>\n",
       "      <td>...</td>\n",
       "      <td>0</td>\n",
       "      <td>0</td>\n",
       "      <td>0</td>\n",
       "      <td>0</td>\n",
       "      <td>0</td>\n",
       "      <td>0</td>\n",
       "      <td>0</td>\n",
       "      <td>0</td>\n",
       "      <td>1.00</td>\n",
       "      <td>0</td>\n",
       "    </tr>\n",
       "  </tbody>\n",
       "</table>\n",
       "<p>5 rows × 455 columns</p>\n",
       "</div>"
      ],
      "text/plain": [
       "  Date received                            Company public response  \\\n",
       "0    2024-07-27                                            Unknown   \n",
       "1    2024-09-18                                            Unknown   \n",
       "2    2024-09-19                                            Unknown   \n",
       "3    2024-06-09  Company has responded to the consumer and the ...   \n",
       "4    2024-07-24                                            Unknown   \n",
       "\n",
       "                               Company ZIP code Date sent to company  \\\n",
       "0    CAPITAL ONE FINANCIAL CORPORATION    94519           2024-07-27   \n",
       "1            ENCORE CAPITAL GROUP INC.    34472           2024-09-18   \n",
       "2                      CL Holdings LLC    40160           2024-09-19   \n",
       "3  Experian Information Solutions Inc.    91730           2024-06-09   \n",
       "4                     TrueAccord Corp.    761XX           2024-07-24   \n",
       "\n",
       "      Company response to consumer Timely response?  Complaint ID  \\\n",
       "0  Closed with non-monetary relief              Yes       9634839   \n",
       "1          Closed with explanation              Yes      10169554   \n",
       "2                      In progress              Yes      10169752   \n",
       "3  Closed with non-monetary relief              Yes       9213312   \n",
       "4          Closed with explanation              Yes       9592293   \n",
       "\n",
       "   Product_Checking or savings account  Product_Credit card  ...  State_WA  \\\n",
       "0                                    0                 1.00  ...         0   \n",
       "1                                    0                    0  ...         0   \n",
       "2                                    0                    0  ...         0   \n",
       "3                                    0                    0  ...         0   \n",
       "4                                    0                    0  ...         0   \n",
       "\n",
       "   State_WI  State_WV  State_WY  Submitted via_Email  Submitted via_Phone  \\\n",
       "0         0         0         0                    0                    0   \n",
       "1         0         0         0                    0                    0   \n",
       "2         0         0         0                    0                    0   \n",
       "3         0         0         0                    0                    0   \n",
       "4         0         0         0                    0                    0   \n",
       "\n",
       "   Submitted via_Postal mail  Submitted via_Referral  Submitted via_Web  \\\n",
       "0                          0                       0               1.00   \n",
       "1                          0                       0               1.00   \n",
       "2                          0                       0               1.00   \n",
       "3                          0                       0               1.00   \n",
       "4                          0                       0               1.00   \n",
       "\n",
       "   Submitted via_Web Referral  \n",
       "0                           0  \n",
       "1                           0  \n",
       "2                           0  \n",
       "3                           0  \n",
       "4                           0  \n",
       "\n",
       "[5 rows x 455 columns]"
      ]
     },
     "execution_count": 22,
     "metadata": {},
     "output_type": "execute_result"
    }
   ],
   "source": [
    "complaints_cfpb.head()"
   ]
  },
  {
   "cell_type": "code",
   "execution_count": 23,
   "id": "744db76c-0ed9-4591-8fea-d1d890386362",
   "metadata": {},
   "outputs": [
    {
     "data": {
      "text/plain": [
       "Company response to consumer\n",
       "Closed with explanation            1391296\n",
       "Closed with non-monetary relief    1310424\n",
       "In progress                         380908\n",
       "Closed with monetary relief          36265\n",
       "Untimely response                     3049\n",
       "Unknown                                 18\n",
       "Closed                                   0\n",
       "Closed with relief                       0\n",
       "Closed without relief                    0\n",
       "Name: count, dtype: int64"
      ]
     },
     "execution_count": 23,
     "metadata": {},
     "output_type": "execute_result"
    }
   ],
   "source": [
    "complaints_cfpb[\"Company response to consumer\"].value_counts()"
   ]
  },
  {
   "cell_type": "code",
   "execution_count": 24,
   "id": "20e20d1f-9413-4118-9f76-3b0223e7565d",
   "metadata": {},
   "outputs": [
    {
     "name": "stdout",
     "output_type": "stream",
     "text": [
      "Closed with explanation: 0\n",
      "Closed with monetary relief: 1\n",
      "Closed with non-monetary relief: 2\n",
      "In progress: 3\n",
      "Unknown: 4\n",
      "Untimely response: 5\n",
      "Company response to consumer_encoded\n",
      "0    1391296\n",
      "2    1310424\n",
      "3     380908\n",
      "1      36265\n",
      "5       3049\n",
      "4         18\n",
      "Name: count, dtype: int64\n"
     ]
    }
   ],
   "source": [
    "# Create a LabelEncoder object\n",
    "le = LabelEncoder()\n",
    "\n",
    "# Fit and transform the \"Company response to consumer\" column\n",
    "complaints_cfpb[\"Company response to consumer_encoded\"] = le.fit_transform(complaints_cfpb[\"Company response to consumer\"])\n",
    "\n",
    "# Print the mapping\n",
    "for i, category in enumerate(le.classes_):\n",
    "    print(f\"{category}: {i}\")\n",
    "\n",
    "# Check the value counts of the encoded column\n",
    "print(complaints_cfpb[\"Company response to consumer_encoded\"].value_counts())"
   ]
  },
  {
   "cell_type": "code",
   "execution_count": 25,
   "id": "z-oxWLSPZeyk",
   "metadata": {
    "colab": {
     "base_uri": "https://localhost:8080/"
    },
    "executionInfo": {
     "elapsed": 5,
     "status": "ok",
     "timestamp": 1730767478143,
     "user": {
      "displayName": "Nidhi Govindraya Kamath",
      "userId": "06128373347173156974"
     },
     "user_tz": 300
    },
    "id": "z-oxWLSPZeyk",
    "outputId": "8f8d9b71-bad2-41c2-c0b6-3e47f5c46f4e"
   },
   "outputs": [
    {
     "data": {
      "text/plain": [
       "Index(['Date received', 'Company public response', 'Company', 'ZIP code',\n",
       "       'Date sent to company', 'Company response to consumer',\n",
       "       'Timely response?', 'Complaint ID',\n",
       "       'Product_Checking or savings account', 'Product_Credit card',\n",
       "       ...\n",
       "       'State_WI', 'State_WV', 'State_WY', 'Submitted via_Email',\n",
       "       'Submitted via_Phone', 'Submitted via_Postal mail',\n",
       "       'Submitted via_Referral', 'Submitted via_Web',\n",
       "       'Submitted via_Web Referral', 'Company response to consumer_encoded'],\n",
       "      dtype='object', length=456)"
      ]
     },
     "execution_count": 25,
     "metadata": {},
     "output_type": "execute_result"
    }
   ],
   "source": [
    "complaints_cfpb.columns"
   ]
  },
  {
   "cell_type": "code",
   "execution_count": 26,
   "id": "387f93c2-963b-499d-976f-a2cf0add2878",
   "metadata": {},
   "outputs": [
    {
     "data": {
      "text/html": [
       "<div>\n",
       "<style scoped>\n",
       "    .dataframe tbody tr th:only-of-type {\n",
       "        vertical-align: middle;\n",
       "    }\n",
       "\n",
       "    .dataframe tbody tr th {\n",
       "        vertical-align: top;\n",
       "    }\n",
       "\n",
       "    .dataframe thead th {\n",
       "        text-align: right;\n",
       "    }\n",
       "</style>\n",
       "<table border=\"1\" class=\"dataframe\">\n",
       "  <thead>\n",
       "    <tr style=\"text-align: right;\">\n",
       "      <th></th>\n",
       "      <th>Date received</th>\n",
       "      <th>Company public response</th>\n",
       "      <th>Company</th>\n",
       "      <th>ZIP code</th>\n",
       "      <th>Date sent to company</th>\n",
       "      <th>Company response to consumer</th>\n",
       "      <th>Timely response?</th>\n",
       "      <th>Product_Checking or savings account</th>\n",
       "      <th>Product_Credit card</th>\n",
       "      <th>Product_Credit card or prepaid card</th>\n",
       "      <th>...</th>\n",
       "      <th>State_WI</th>\n",
       "      <th>State_WV</th>\n",
       "      <th>State_WY</th>\n",
       "      <th>Submitted via_Email</th>\n",
       "      <th>Submitted via_Phone</th>\n",
       "      <th>Submitted via_Postal mail</th>\n",
       "      <th>Submitted via_Referral</th>\n",
       "      <th>Submitted via_Web</th>\n",
       "      <th>Submitted via_Web Referral</th>\n",
       "      <th>Company response to consumer_encoded</th>\n",
       "    </tr>\n",
       "  </thead>\n",
       "  <tbody>\n",
       "    <tr>\n",
       "      <th>0</th>\n",
       "      <td>2024-07-27</td>\n",
       "      <td>Unknown</td>\n",
       "      <td>CAPITAL ONE FINANCIAL CORPORATION</td>\n",
       "      <td>94519</td>\n",
       "      <td>2024-07-27</td>\n",
       "      <td>Closed with non-monetary relief</td>\n",
       "      <td>Yes</td>\n",
       "      <td>0</td>\n",
       "      <td>1.00</td>\n",
       "      <td>0</td>\n",
       "      <td>...</td>\n",
       "      <td>0</td>\n",
       "      <td>0</td>\n",
       "      <td>0</td>\n",
       "      <td>0</td>\n",
       "      <td>0</td>\n",
       "      <td>0</td>\n",
       "      <td>0</td>\n",
       "      <td>1.00</td>\n",
       "      <td>0</td>\n",
       "      <td>2</td>\n",
       "    </tr>\n",
       "    <tr>\n",
       "      <th>1</th>\n",
       "      <td>2024-09-18</td>\n",
       "      <td>Unknown</td>\n",
       "      <td>ENCORE CAPITAL GROUP INC.</td>\n",
       "      <td>34472</td>\n",
       "      <td>2024-09-18</td>\n",
       "      <td>Closed with explanation</td>\n",
       "      <td>Yes</td>\n",
       "      <td>0</td>\n",
       "      <td>0</td>\n",
       "      <td>0</td>\n",
       "      <td>...</td>\n",
       "      <td>0</td>\n",
       "      <td>0</td>\n",
       "      <td>0</td>\n",
       "      <td>0</td>\n",
       "      <td>0</td>\n",
       "      <td>0</td>\n",
       "      <td>0</td>\n",
       "      <td>1.00</td>\n",
       "      <td>0</td>\n",
       "      <td>0</td>\n",
       "    </tr>\n",
       "    <tr>\n",
       "      <th>2</th>\n",
       "      <td>2024-09-19</td>\n",
       "      <td>Unknown</td>\n",
       "      <td>CL Holdings LLC</td>\n",
       "      <td>40160</td>\n",
       "      <td>2024-09-19</td>\n",
       "      <td>In progress</td>\n",
       "      <td>Yes</td>\n",
       "      <td>0</td>\n",
       "      <td>0</td>\n",
       "      <td>0</td>\n",
       "      <td>...</td>\n",
       "      <td>0</td>\n",
       "      <td>0</td>\n",
       "      <td>0</td>\n",
       "      <td>0</td>\n",
       "      <td>0</td>\n",
       "      <td>0</td>\n",
       "      <td>0</td>\n",
       "      <td>1.00</td>\n",
       "      <td>0</td>\n",
       "      <td>3</td>\n",
       "    </tr>\n",
       "    <tr>\n",
       "      <th>3</th>\n",
       "      <td>2024-06-09</td>\n",
       "      <td>Company has responded to the consumer and the ...</td>\n",
       "      <td>Experian Information Solutions Inc.</td>\n",
       "      <td>91730</td>\n",
       "      <td>2024-06-09</td>\n",
       "      <td>Closed with non-monetary relief</td>\n",
       "      <td>Yes</td>\n",
       "      <td>0</td>\n",
       "      <td>0</td>\n",
       "      <td>0</td>\n",
       "      <td>...</td>\n",
       "      <td>0</td>\n",
       "      <td>0</td>\n",
       "      <td>0</td>\n",
       "      <td>0</td>\n",
       "      <td>0</td>\n",
       "      <td>0</td>\n",
       "      <td>0</td>\n",
       "      <td>1.00</td>\n",
       "      <td>0</td>\n",
       "      <td>2</td>\n",
       "    </tr>\n",
       "    <tr>\n",
       "      <th>4</th>\n",
       "      <td>2024-07-24</td>\n",
       "      <td>Unknown</td>\n",
       "      <td>TrueAccord Corp.</td>\n",
       "      <td>761XX</td>\n",
       "      <td>2024-07-24</td>\n",
       "      <td>Closed with explanation</td>\n",
       "      <td>Yes</td>\n",
       "      <td>0</td>\n",
       "      <td>0</td>\n",
       "      <td>0</td>\n",
       "      <td>...</td>\n",
       "      <td>0</td>\n",
       "      <td>0</td>\n",
       "      <td>0</td>\n",
       "      <td>0</td>\n",
       "      <td>0</td>\n",
       "      <td>0</td>\n",
       "      <td>0</td>\n",
       "      <td>1.00</td>\n",
       "      <td>0</td>\n",
       "      <td>0</td>\n",
       "    </tr>\n",
       "    <tr>\n",
       "      <th>...</th>\n",
       "      <td>...</td>\n",
       "      <td>...</td>\n",
       "      <td>...</td>\n",
       "      <td>...</td>\n",
       "      <td>...</td>\n",
       "      <td>...</td>\n",
       "      <td>...</td>\n",
       "      <td>...</td>\n",
       "      <td>...</td>\n",
       "      <td>...</td>\n",
       "      <td>...</td>\n",
       "      <td>...</td>\n",
       "      <td>...</td>\n",
       "      <td>...</td>\n",
       "      <td>...</td>\n",
       "      <td>...</td>\n",
       "      <td>...</td>\n",
       "      <td>...</td>\n",
       "      <td>...</td>\n",
       "      <td>...</td>\n",
       "      <td>...</td>\n",
       "    </tr>\n",
       "    <tr>\n",
       "      <th>6330917</th>\n",
       "      <td>2023-03-19</td>\n",
       "      <td>Unknown</td>\n",
       "      <td>Paypal Holdings, Inc</td>\n",
       "      <td>78640</td>\n",
       "      <td>2023-03-19</td>\n",
       "      <td>Closed with explanation</td>\n",
       "      <td>Yes</td>\n",
       "      <td>0</td>\n",
       "      <td>0</td>\n",
       "      <td>0</td>\n",
       "      <td>...</td>\n",
       "      <td>0</td>\n",
       "      <td>0</td>\n",
       "      <td>0</td>\n",
       "      <td>0</td>\n",
       "      <td>0</td>\n",
       "      <td>0</td>\n",
       "      <td>0</td>\n",
       "      <td>1.00</td>\n",
       "      <td>0</td>\n",
       "      <td>0</td>\n",
       "    </tr>\n",
       "    <tr>\n",
       "      <th>6331032</th>\n",
       "      <td>2023-01-24</td>\n",
       "      <td>Unknown</td>\n",
       "      <td>Paypal Holdings, Inc</td>\n",
       "      <td>XXXXX</td>\n",
       "      <td>2023-01-24</td>\n",
       "      <td>Closed with explanation</td>\n",
       "      <td>Yes</td>\n",
       "      <td>0</td>\n",
       "      <td>0</td>\n",
       "      <td>0</td>\n",
       "      <td>...</td>\n",
       "      <td>0</td>\n",
       "      <td>0</td>\n",
       "      <td>0</td>\n",
       "      <td>0</td>\n",
       "      <td>0</td>\n",
       "      <td>0</td>\n",
       "      <td>0</td>\n",
       "      <td>1.00</td>\n",
       "      <td>0</td>\n",
       "      <td>0</td>\n",
       "    </tr>\n",
       "    <tr>\n",
       "      <th>6331119</th>\n",
       "      <td>2023-02-22</td>\n",
       "      <td>Company has responded to the consumer and the ...</td>\n",
       "      <td>WELLS FARGO &amp; COMPANY</td>\n",
       "      <td>91104</td>\n",
       "      <td>2023-03-02</td>\n",
       "      <td>Closed with explanation</td>\n",
       "      <td>Yes</td>\n",
       "      <td>0</td>\n",
       "      <td>0</td>\n",
       "      <td>1.00</td>\n",
       "      <td>...</td>\n",
       "      <td>0</td>\n",
       "      <td>0</td>\n",
       "      <td>0</td>\n",
       "      <td>0</td>\n",
       "      <td>0</td>\n",
       "      <td>0</td>\n",
       "      <td>0</td>\n",
       "      <td>1.00</td>\n",
       "      <td>0</td>\n",
       "      <td>0</td>\n",
       "    </tr>\n",
       "    <tr>\n",
       "      <th>6331475</th>\n",
       "      <td>2023-03-19</td>\n",
       "      <td>Unknown</td>\n",
       "      <td>CBC Companies, Inc.</td>\n",
       "      <td>21202</td>\n",
       "      <td>2023-03-19</td>\n",
       "      <td>Closed with explanation</td>\n",
       "      <td>Yes</td>\n",
       "      <td>0</td>\n",
       "      <td>0</td>\n",
       "      <td>0</td>\n",
       "      <td>...</td>\n",
       "      <td>0</td>\n",
       "      <td>0</td>\n",
       "      <td>0</td>\n",
       "      <td>0</td>\n",
       "      <td>0</td>\n",
       "      <td>0</td>\n",
       "      <td>0</td>\n",
       "      <td>1.00</td>\n",
       "      <td>0</td>\n",
       "      <td>0</td>\n",
       "    </tr>\n",
       "    <tr>\n",
       "      <th>6333130</th>\n",
       "      <td>2023-01-24</td>\n",
       "      <td>Unknown</td>\n",
       "      <td>EQUIFAX, INC.</td>\n",
       "      <td>11210</td>\n",
       "      <td>2023-01-24</td>\n",
       "      <td>Closed with explanation</td>\n",
       "      <td>Yes</td>\n",
       "      <td>0</td>\n",
       "      <td>0</td>\n",
       "      <td>0</td>\n",
       "      <td>...</td>\n",
       "      <td>0</td>\n",
       "      <td>0</td>\n",
       "      <td>0</td>\n",
       "      <td>0</td>\n",
       "      <td>0</td>\n",
       "      <td>0</td>\n",
       "      <td>0</td>\n",
       "      <td>1.00</td>\n",
       "      <td>0</td>\n",
       "      <td>0</td>\n",
       "    </tr>\n",
       "  </tbody>\n",
       "</table>\n",
       "<p>3121960 rows × 455 columns</p>\n",
       "</div>"
      ],
      "text/plain": [
       "        Date received                            Company public response  \\\n",
       "0          2024-07-27                                            Unknown   \n",
       "1          2024-09-18                                            Unknown   \n",
       "2          2024-09-19                                            Unknown   \n",
       "3          2024-06-09  Company has responded to the consumer and the ...   \n",
       "4          2024-07-24                                            Unknown   \n",
       "...               ...                                                ...   \n",
       "6330917    2023-03-19                                            Unknown   \n",
       "6331032    2023-01-24                                            Unknown   \n",
       "6331119    2023-02-22  Company has responded to the consumer and the ...   \n",
       "6331475    2023-03-19                                            Unknown   \n",
       "6333130    2023-01-24                                            Unknown   \n",
       "\n",
       "                                     Company ZIP code Date sent to company  \\\n",
       "0          CAPITAL ONE FINANCIAL CORPORATION    94519           2024-07-27   \n",
       "1                  ENCORE CAPITAL GROUP INC.    34472           2024-09-18   \n",
       "2                            CL Holdings LLC    40160           2024-09-19   \n",
       "3        Experian Information Solutions Inc.    91730           2024-06-09   \n",
       "4                           TrueAccord Corp.    761XX           2024-07-24   \n",
       "...                                      ...      ...                  ...   \n",
       "6330917                 Paypal Holdings, Inc    78640           2023-03-19   \n",
       "6331032                 Paypal Holdings, Inc    XXXXX           2023-01-24   \n",
       "6331119                WELLS FARGO & COMPANY    91104           2023-03-02   \n",
       "6331475                  CBC Companies, Inc.    21202           2023-03-19   \n",
       "6333130                        EQUIFAX, INC.    11210           2023-01-24   \n",
       "\n",
       "            Company response to consumer Timely response?  \\\n",
       "0        Closed with non-monetary relief              Yes   \n",
       "1                Closed with explanation              Yes   \n",
       "2                            In progress              Yes   \n",
       "3        Closed with non-monetary relief              Yes   \n",
       "4                Closed with explanation              Yes   \n",
       "...                                  ...              ...   \n",
       "6330917          Closed with explanation              Yes   \n",
       "6331032          Closed with explanation              Yes   \n",
       "6331119          Closed with explanation              Yes   \n",
       "6331475          Closed with explanation              Yes   \n",
       "6333130          Closed with explanation              Yes   \n",
       "\n",
       "         Product_Checking or savings account  Product_Credit card  \\\n",
       "0                                          0                 1.00   \n",
       "1                                          0                    0   \n",
       "2                                          0                    0   \n",
       "3                                          0                    0   \n",
       "4                                          0                    0   \n",
       "...                                      ...                  ...   \n",
       "6330917                                    0                    0   \n",
       "6331032                                    0                    0   \n",
       "6331119                                    0                    0   \n",
       "6331475                                    0                    0   \n",
       "6333130                                    0                    0   \n",
       "\n",
       "         Product_Credit card or prepaid card  ...  State_WI  State_WV  \\\n",
       "0                                          0  ...         0         0   \n",
       "1                                          0  ...         0         0   \n",
       "2                                          0  ...         0         0   \n",
       "3                                          0  ...         0         0   \n",
       "4                                          0  ...         0         0   \n",
       "...                                      ...  ...       ...       ...   \n",
       "6330917                                    0  ...         0         0   \n",
       "6331032                                    0  ...         0         0   \n",
       "6331119                                 1.00  ...         0         0   \n",
       "6331475                                    0  ...         0         0   \n",
       "6333130                                    0  ...         0         0   \n",
       "\n",
       "         State_WY  Submitted via_Email  Submitted via_Phone  \\\n",
       "0               0                    0                    0   \n",
       "1               0                    0                    0   \n",
       "2               0                    0                    0   \n",
       "3               0                    0                    0   \n",
       "4               0                    0                    0   \n",
       "...           ...                  ...                  ...   \n",
       "6330917         0                    0                    0   \n",
       "6331032         0                    0                    0   \n",
       "6331119         0                    0                    0   \n",
       "6331475         0                    0                    0   \n",
       "6333130         0                    0                    0   \n",
       "\n",
       "         Submitted via_Postal mail  Submitted via_Referral  Submitted via_Web  \\\n",
       "0                                0                       0               1.00   \n",
       "1                                0                       0               1.00   \n",
       "2                                0                       0               1.00   \n",
       "3                                0                       0               1.00   \n",
       "4                                0                       0               1.00   \n",
       "...                            ...                     ...                ...   \n",
       "6330917                          0                       0               1.00   \n",
       "6331032                          0                       0               1.00   \n",
       "6331119                          0                       0               1.00   \n",
       "6331475                          0                       0               1.00   \n",
       "6333130                          0                       0               1.00   \n",
       "\n",
       "         Submitted via_Web Referral  Company response to consumer_encoded  \n",
       "0                                 0                                     2  \n",
       "1                                 0                                     0  \n",
       "2                                 0                                     3  \n",
       "3                                 0                                     2  \n",
       "4                                 0                                     0  \n",
       "...                             ...                                   ...  \n",
       "6330917                           0                                     0  \n",
       "6331032                           0                                     0  \n",
       "6331119                           0                                     0  \n",
       "6331475                           0                                     0  \n",
       "6333130                           0                                     0  \n",
       "\n",
       "[3121960 rows x 455 columns]"
      ]
     },
     "execution_count": 26,
     "metadata": {},
     "output_type": "execute_result"
    }
   ],
   "source": [
    "complaints_cfpb.drop('Complaint ID', axis=1)"
   ]
  },
  {
   "cell_type": "code",
   "execution_count": 27,
   "id": "1a323b5c-ee6b-4210-aae7-d2a905e63e18",
   "metadata": {},
   "outputs": [
    {
     "name": "stdout",
     "output_type": "stream",
     "text": [
      "Index(['Complaint ID', 'Product_Checking or savings account',\n",
      "       'Product_Credit card', 'Product_Credit card or prepaid card',\n",
      "       'Product_Credit reporting or other personal consumer reports',\n",
      "       'Product_Credit reporting, credit repair services, or other personal consumer reports',\n",
      "       'Product_Debt collection', 'Product_Debt or credit management',\n",
      "       'Product_Money transfer, virtual currency, or money service',\n",
      "       'Product_Mortgage',\n",
      "       ...\n",
      "       'State_WI', 'State_WV', 'State_WY', 'Submitted via_Email',\n",
      "       'Submitted via_Phone', 'Submitted via_Postal mail',\n",
      "       'Submitted via_Referral', 'Submitted via_Web',\n",
      "       'Submitted via_Web Referral', 'Company response to consumer_encoded'],\n",
      "      dtype='object', length=449)\n"
     ]
    },
    {
     "name": "stderr",
     "output_type": "stream",
     "text": [
      "/opt/anaconda3/lib/python3.12/site-packages/sklearn/utils/validation.py:869: UserWarning: pandas.DataFrame with sparse columns found.It will be converted to a dense numpy array.\n",
      "  warnings.warn(\n",
      "/opt/anaconda3/lib/python3.12/site-packages/sklearn/utils/validation.py:869: UserWarning: pandas.DataFrame with sparse columns found.It will be converted to a dense numpy array.\n",
      "  warnings.warn(\n"
     ]
    },
    {
     "name": "stdout",
     "output_type": "stream",
     "text": [
      "Index(['Complaint ID', 'Product_Checking or savings account',\n",
      "       'Product_Credit card', 'Product_Credit card or prepaid card',\n",
      "       'Product_Credit reporting or other personal consumer reports',\n",
      "       'Product_Credit reporting, credit repair services, or other personal consumer reports',\n",
      "       'Product_Debt collection', 'Product_Debt or credit management',\n",
      "       'Product_Money transfer, virtual currency, or money service',\n",
      "       'Product_Mortgage',\n",
      "       ...\n",
      "       'State_OR', 'State_PR', 'State_TX', 'State_Unknown', 'State_WA',\n",
      "       'Submitted via_Phone', 'Submitted via_Postal mail',\n",
      "       'Submitted via_Referral', 'Submitted via_Web',\n",
      "       'Submitted via_Web Referral'],\n",
      "      dtype='object', length=250)\n"
     ]
    }
   ],
   "source": [
    "# Identify numeric columns\n",
    "numeric_columns = complaints_cfpb.select_dtypes(include=['int64', 'float64', 'bool']).columns\n",
    "\n",
    "print(numeric_columns)\n",
    "\n",
    "# Use only numeric columns for feature selection\n",
    "X = complaints_cfpb[numeric_columns].drop('Company response to consumer_encoded', axis=1)\n",
    "y = complaints_cfpb['Company response to consumer_encoded']\n",
    "\n",
    "# Now perform feature selection\n",
    "k = 250  # Adjust as needed\n",
    "selector = SelectKBest(score_func=chi2, k=k)\n",
    "X_reduced = selector.fit_transform(X, y)\n",
    "\n",
    "# Get selected feature names\n",
    "selected_features = X.columns[selector.get_support()]\n",
    "\n",
    "print(selected_features)"
   ]
  },
  {
   "cell_type": "code",
   "execution_count": 28,
   "id": "06c57bca-931e-4967-9779-30c81ab4f527",
   "metadata": {},
   "outputs": [],
   "source": [
    "# Split the data into training and testing sets\n",
    "X_train, X_test, y_train, y_test = train_test_split(X_reduced, y, test_size=0.2, random_state=42)"
   ]
  },
  {
   "cell_type": "code",
   "execution_count": 29,
   "id": "8e03290d-6173-4025-b5c9-3b509e9255c5",
   "metadata": {},
   "outputs": [],
   "source": [
    "# Scale the features\n",
    "scaler = StandardScaler()\n",
    "X_train_scaled = scaler.fit_transform(X_train)\n",
    "X_test_scaled = scaler.transform(X_test)"
   ]
  },
  {
   "cell_type": "code",
   "execution_count": 30,
   "id": "79673bdc-6da2-464f-8027-f2343f23bcd3",
   "metadata": {},
   "outputs": [
    {
     "name": "stderr",
     "output_type": "stream",
     "text": [
      "/opt/anaconda3/lib/python3.12/site-packages/sklearn/linear_model/_logistic.py:469: ConvergenceWarning: lbfgs failed to converge (status=1):\n",
      "STOP: TOTAL NO. of ITERATIONS REACHED LIMIT.\n",
      "\n",
      "Increase the number of iterations (max_iter) or scale the data as shown in:\n",
      "    https://scikit-learn.org/stable/modules/preprocessing.html\n",
      "Please also refer to the documentation for alternative solver options:\n",
      "    https://scikit-learn.org/stable/modules/linear_model.html#logistic-regression\n",
      "  n_iter_i = _check_optimize_result(\n"
     ]
    }
   ],
   "source": [
    "# Logistic regression model\n",
    "lr_model = LogisticRegression(random_state=42)\n",
    "lr_model.fit(X_train_scaled, y_train)\n",
    "y_pred = lr_model.predict(X_test_scaled)"
   ]
  },
  {
   "cell_type": "code",
   "execution_count": 31,
   "id": "bb8615d7-8a9e-4e9a-b4b3-c6ed9d1ece8a",
   "metadata": {},
   "outputs": [
    {
     "name": "stdout",
     "output_type": "stream",
     "text": [
      "Logistic Regression Results:\n"
     ]
    },
    {
     "name": "stderr",
     "output_type": "stream",
     "text": [
      "/opt/anaconda3/lib/python3.12/site-packages/sklearn/metrics/_classification.py:1509: UndefinedMetricWarning: Precision is ill-defined and being set to 0.0 in labels with no predicted samples. Use `zero_division` parameter to control this behavior.\n",
      "  _warn_prf(average, modifier, f\"{metric.capitalize()} is\", len(result))\n",
      "/opt/anaconda3/lib/python3.12/site-packages/sklearn/metrics/_classification.py:1509: UndefinedMetricWarning: Precision is ill-defined and being set to 0.0 in labels with no predicted samples. Use `zero_division` parameter to control this behavior.\n",
      "  _warn_prf(average, modifier, f\"{metric.capitalize()} is\", len(result))\n",
      "/opt/anaconda3/lib/python3.12/site-packages/sklearn/metrics/_classification.py:1509: UndefinedMetricWarning: Precision is ill-defined and being set to 0.0 in labels with no predicted samples. Use `zero_division` parameter to control this behavior.\n",
      "  _warn_prf(average, modifier, f\"{metric.capitalize()} is\", len(result))\n"
     ]
    },
    {
     "name": "stdout",
     "output_type": "stream",
     "text": [
      "              precision    recall  f1-score   support\n",
      "\n",
      "           0       0.65      0.50      0.57    278158\n",
      "           1       0.50      0.03      0.06      7225\n",
      "           2       0.56      0.68      0.62    262202\n",
      "           3       0.71      0.81      0.76     76186\n",
      "           4       0.00      0.00      0.00         4\n",
      "           5       0.00      0.00      0.00       617\n",
      "\n",
      "    accuracy                           0.61    624392\n",
      "   macro avg       0.40      0.34      0.33    624392\n",
      "weighted avg       0.62      0.61      0.60    624392\n",
      "\n",
      "Accuracy: 0.6105\n",
      "Precision: 0.6157\n"
     ]
    },
    {
     "name": "stderr",
     "output_type": "stream",
     "text": [
      "/opt/anaconda3/lib/python3.12/site-packages/sklearn/metrics/_classification.py:1509: UndefinedMetricWarning: Precision is ill-defined and being set to 0.0 in labels with no predicted samples. Use `zero_division` parameter to control this behavior.\n",
      "  _warn_prf(average, modifier, f\"{metric.capitalize()} is\", len(result))\n"
     ]
    },
    {
     "name": "stdout",
     "output_type": "stream",
     "text": [
      "Recall: 0.6105\n",
      "F1-Score: 0.6036\n"
     ]
    }
   ],
   "source": [
    "# Evaluate LR model\n",
    "print(\"Logistic Regression Results:\")\n",
    "print(classification_report(y_test, y_pred))\n",
    "print(f\"Accuracy: {accuracy_score(y_test, y_pred):.4f}\")\n",
    "print(f\"Precision: {precision_score(y_test, y_pred, average='weighted'):.4f}\")\n",
    "print(f\"Recall: {recall_score(y_test, y_pred, average='weighted'):.4f}\")\n",
    "print(f\"F1-Score: {f1_score(y_test, y_pred, average='weighted'):.4f}\")\n",
    "\n",
    "#If you want to see the coefficients for each feature\n",
    "# for feature, coef in zip(selected_features, lr_model.coef_[0]):\n",
    "#     print(f\"{feature}: {coef}\")"
   ]
  },
  {
   "cell_type": "code",
   "execution_count": 32,
   "id": "fb9545c3-bde5-446e-801d-7e97facd971f",
   "metadata": {},
   "outputs": [],
   "source": [
    "# Decision Tree model\n",
    "dt_model = DecisionTreeClassifier(random_state=42)\n",
    "dt_model.fit(X_train, y_train)\n",
    "y_pred = dt_model.predict(X_test)"
   ]
  },
  {
   "cell_type": "code",
   "execution_count": 33,
   "id": "24096208-4244-4062-a075-843932184e0e",
   "metadata": {},
   "outputs": [
    {
     "name": "stdout",
     "output_type": "stream",
     "text": [
      "Decision Tree Classifier Results:\n",
      "              precision    recall  f1-score   support\n",
      "\n",
      "           0       0.55      0.55      0.55    278158\n",
      "           1       0.23      0.23      0.23      7225\n",
      "           2       0.53      0.53      0.53    262202\n",
      "           3       0.74      0.74      0.74     76186\n",
      "           4       0.00      0.00      0.00         4\n",
      "           5       0.06      0.06      0.06       617\n",
      "\n",
      "    accuracy                           0.56    624392\n",
      "   macro avg       0.35      0.35      0.35    624392\n",
      "weighted avg       0.56      0.56      0.56    624392\n",
      "\n",
      "Accuracy: 0.5607\n",
      "Precision: 0.5609\n",
      "Recall: 0.5607\n",
      "F1-Score: 0.5608\n"
     ]
    }
   ],
   "source": [
    "#Evaluate DT model\n",
    "print(\"Decision Tree Classifier Results:\")\n",
    "print(classification_report(y_test, y_pred))\n",
    "print(f\"Accuracy: {accuracy_score(y_test, y_pred):.4f}\")\n",
    "print(f\"Precision: {precision_score(y_test, y_pred, average='weighted'):.4f}\")\n",
    "print(f\"Recall: {recall_score(y_test, y_pred, average='weighted'):.4f}\")\n",
    "print(f\"F1-Score: {f1_score(y_test, y_pred, average='weighted'):.4f}\")"
   ]
  },
  {
   "cell_type": "code",
   "execution_count": 34,
   "id": "8297927b-cabf-4781-9285-daff854d99f9",
   "metadata": {},
   "outputs": [
    {
     "name": "stdout",
     "output_type": "stream",
     "text": [
      "\n",
      "Top 10 Important Features:\n",
      "                                               feature  importance\n",
      "0                                         Complaint ID        0.81\n",
      "22                        Sub-product_Credit reporting        0.05\n",
      "242                                           State_TX        0.02\n",
      "235                                           State_FL        0.02\n",
      "233                                           State_CA        0.01\n",
      "236                                           State_GA        0.01\n",
      "4    Product_Credit reporting or other personal con...        0.01\n",
      "173      Sub-issue_Information belongs to someone else        0.00\n",
      "237                                           State_LA        0.00\n",
      "124                 Sub-issue_Account status incorrect        0.00\n"
     ]
    },
    {
     "data": {
      "image/png": "[encoded data removed]",
      "text/plain": [
       "<Figure size 2000x1000 with 1 Axes>"
      ]
     },
     "metadata": {},
     "output_type": "display_data"
    }
   ],
   "source": [
    "#Feature importance\n",
    "feature_importance = pd.DataFrame({\n",
    "    'feature': selected_features,\n",
    "    'importance': dt_model.feature_importances_\n",
    "})\n",
    "feature_importance = feature_importance.sort_values('importance', ascending=False)\n",
    "\n",
    "print(\"\\nTop 10 Important Features:\")\n",
    "print(feature_importance.head(10))\n",
    "\n",
    "#Visualize the decision tree (optional)\n",
    "from sklearn.tree import plot_tree\n",
    "import matplotlib.pyplot as plt\n",
    "\n",
    "plt.figure(figsize=(20, 10))\n",
    "plot_tree(dt_model, feature_names=list(selected_features), class_names=list(map(str, dt_model.classes_)), filled=True, rounded=True, max_depth=5)\n",
    "plt.show()"
   ]
  }
 ],
 "metadata": {
  "colab": {
   "provenance": []
  },
  "kernelspec": {
   "display_name": "Python 3 (ipykernel)",
   "language": "python",
   "name": "python3"
  },
  "language_info": {
   "codemirror_mode": {
    "name": "ipython",
    "version": 3
   },
   "file_extension": ".py",
   "mimetype": "text/x-python",
   "name": "python",
   "nbconvert_exporter": "python",
   "pygments_lexer": "ipython3",
   "version": "3.12.4"
  }
 },
 "nbformat": 4,
 "nbformat_minor": 5
}
